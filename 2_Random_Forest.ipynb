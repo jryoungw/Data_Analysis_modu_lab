{
 "cells": [
  {
   "cell_type": "markdown",
   "metadata": {},
   "source": [
    "# 2. Random Forest 실습"
   ]
  },
  {
   "cell_type": "markdown",
   "metadata": {},
   "source": [
    "## 1. Import dataset"
   ]
  },
  {
   "cell_type": "code",
   "execution_count": 1,
   "metadata": {},
   "outputs": [],
   "source": [
    "from sklearn.datasets import load_breast_cancer\n",
    "from sklearn.model_selection import train_test_split"
   ]
  },
  {
   "cell_type": "markdown",
   "metadata": {},
   "source": [
    "## 2. Split dataset"
   ]
  },
  {
   "cell_type": "code",
   "execution_count": 2,
   "metadata": {},
   "outputs": [],
   "source": [
    "dataset = load_breast_cancer().data\n",
    "target = load_breast_cancer().target\n",
    "features = load_breast_cancer().feature_names\n",
    "\n",
    "X_train, X_test, y_train, y_test = train_test_split(dataset, target, test_size=0.2)"
   ]
  },
  {
   "cell_type": "markdown",
   "metadata": {},
   "source": [
    "## 3. Import random forest"
   ]
  },
  {
   "cell_type": "code",
   "execution_count": 3,
   "metadata": {},
   "outputs": [],
   "source": [
    "from sklearn.ensemble import RandomForestClassifier"
   ]
  },
  {
   "cell_type": "markdown",
   "metadata": {},
   "source": [
    "## Official Documentation\n",
    "(https://scikit-learn.org/stable/modules/generated/sklearn.ensemble.RandomForestClassifier.html)\n",
    "\n",
    "- n_estimators : int, default=100\n",
    "     - The number of trees in the forest.\n",
    "\n",
    "\n",
    "\n",
    "- criterion : {“gini”, “entropy”, “log_loss”}, default=”gini”\n",
    "    - The function to measure the quality of a split. Supported criteria are “gini” for the Gini impurity and “log_loss” and “entropy” both for the Shannon information gain, see Mathematical formulation. Note: This parameter is tree-specific.\n",
    "\n",
    "- max_depth : int, default=None\n",
    "    - The maximum depth of the tree. If None, then nodes are expanded until all leaves are pure or until all leaves contain less than min_samples_split samples.\n",
    "\n",
    "- min_samples_split : int or float, default=2\n",
    "    - The minimum number of samples required to split an internal node:\n",
    "\n",
    "    - If int, then consider min_samples_split as the minimum number.\n",
    "\n",
    "    - If float, then min_samples_split is a fraction and ceil(min_samples_split * n_samples) are the minimum number of samples for each split.\n",
    "\n",
    "- min_samples_leaf : int or float, default=1\n",
    "    - The minimum number of samples required to be at a leaf node. A split point at any depth will only be considered if it leaves at least min_samples_leaf training samples in each of the left and right branches. This may have the effect of smoothing the model, especially in regression.\n",
    "\n",
    "    - If int, then consider min_samples_leaf as the minimum number.\n",
    "\n",
    "    - If float, then min_samples_leaf is a fraction and ceil(min_samples_leaf * n_samples) are the minimum number of samples for each node.\n",
    "\n",
    "- min_weight_fraction_leaf : float, default=0.0\n",
    "    - The minimum weighted fraction of the sum total of weights (of all the input samples) required to be at a leaf node. Samples have equal weight when sample_weight is not provided.\n",
    "\n",
    "- max_features : {“sqrt”, “log2”, None}, int or float, default=”sqrt”\n",
    "    - The number of features to consider when looking for the best split:\n",
    "\n",
    "    - If int, then consider max_features features at each split.\n",
    "\n",
    "    - If float, then max_features is a fraction and max(1, int(max_features * n_features_in_)) features are considered at each split.\n",
    "\n",
    "    - If “auto”, then max_features=sqrt(n_features).\n",
    "\n",
    "    - If “sqrt”, then max_features=sqrt(n_features).\n",
    "\n",
    "    - If “log2”, then max_features=log2(n_features).\n",
    "\n",
    "    - If None, then max_features=n_features.\n",
    "\n",
    "- max_leaf_nodes : int, default=None\n",
    "    - Grow trees with max_leaf_nodes in best-first fashion. Best nodes are defined as relative reduction in impurity. If None then unlimited number of leaf nodes.\n",
    "\n",
    "- min_impurity_decrease : float, default=0.0\n",
    "    - A node will be split if this split induces a decrease of the impurity greater than or equal to this value.\n",
    "\n",
    "    - The weighted impurity decrease equation is the following:\n",
    "\n",
    "    - N_t / N * (impurity - N_t_R / N_t * right_impurity - N_t_L / N_t * left_impurity)\n",
    "    - where N is the total number of samples, N_t is the number of samples at the current node, N_t_L is the number of samples in the left child, and N_t_R is the number of samples in the right child.\n",
    "\n",
    "    - N, N_t, N_t_R and N_t_L all refer to the weighted sum, if sample_weight is passed.\n",
    "\n",
    "- bootstrap : bool, default=True\n",
    "    - Whether bootstrap samples are used when building trees. If False, the whole dataset is used to build each tree.\n",
    "\n",
    "- oob_score : bool, default=False\n",
    "    - Whether to use out-of-bag samples to estimate the generalization score. Only available if bootstrap=True.\n",
    "\n",
    "- n_jobs : int, default=None\n",
    "    - The number of jobs to run in parallel. fit, predict, decision_path and apply are all parallelized over the trees. None means 1 unless in a joblib.parallel_backend context. -1 means using all processors. See Glossary for more details.\n",
    "\n",
    "- random_state : int, RandomState instance or None, default=None\n",
    "    - Controls both the randomness of the bootstrapping of the samples used when building trees (if bootstrap=True) and the sampling of the features to consider when looking for the best split at each node (if max_features < n_features). See Glossary for details.\n",
    "\n",
    "- verbose : int, default=0\n",
    "    - Controls the verbosity when fitting and predicting.\n",
    "\n",
    "- warm_start : bool, default=False\n",
    "    - When set to True, reuse the solution of the previous call to fit and add more estimators to the ensemble, otherwise, just fit a whole new forest. See the Glossary.\n",
    "\n",
    "- class_weight : {“balanced”, “balanced_subsample”}, dict or list of dicts, default=None\n",
    "    - Weights associated with classes in the form {class_label: weight}. If not given, all classes are supposed to have weight one. For multi-output problems, a list of dicts can be provided in the same order as the columns of y.\n",
    "\n",
    "    - Note that for multioutput (including multilabel) weights should be defined for each class of every column in its own dict. For example, for four-class multilabel classification weights should be [{0: 1, 1: 1}, {0: 1, 1: 5}, {0: 1, 1: 1}, {0: 1, 1: 1}] instead of [{1:1}, {2:5}, {3:1}, {4:1}].\n",
    "\n",
    "    - The “balanced” mode uses the values of y to automatically adjust weights inversely proportional to class frequencies in the input data as n_samples / (n_classes * np.bincount(y))\n",
    "\n",
    "    - The “balanced_subsample” mode is the same as “balanced” except that weights are computed based on the bootstrap sample for every tree grown.\n",
    "\n",
    "    - For multi-output, the weights of each column of y will be multiplied.\n",
    "\n",
    "    - Note that these weights will be multiplied with sample_weight (passed through the fit method) if sample_weight is specified.\n",
    "\n",
    "- ccp_alphan : on-negative float, default=0.0\n",
    "    - Complexity parameter used for Minimal Cost-Complexity Pruning. The subtree with the largest cost complexity that is smaller than ccp_alpha will be chosen. By default, no pruning is performed. See Minimal Cost-Complexity Pruning for details.\n",
    "\n",
    "- max_samples : int or float, default=None\n",
    "    - If bootstrap is True, the number of samples to draw from X to train each base estimator.\n",
    "\n",
    "    - If None (default), then draw X.shape[0] samples.\n",
    "\n",
    "    - If int, then draw max_samples samples.\n",
    "\n",
    "    - If float, then draw max_samples * X.shape[0] samples. Thus, max_samples should be in the interval (0.0, 1.0]."
   ]
  },
  {
   "cell_type": "markdown",
   "metadata": {},
   "source": [
    "## Random Forest Classifier 호출"
   ]
  },
  {
   "cell_type": "code",
   "execution_count": 4,
   "metadata": {},
   "outputs": [],
   "source": [
    "rf = RandomForestClassifier(random_state=42)"
   ]
  },
  {
   "cell_type": "markdown",
   "metadata": {},
   "source": [
    "## Random Forest Classifier 학습"
   ]
  },
  {
   "cell_type": "code",
   "execution_count": 5,
   "metadata": {},
   "outputs": [
    {
     "name": "stderr",
     "output_type": "stream",
     "text": [
      "/Users/ryoungwoo/opt/anaconda3/lib/python3.7/site-packages/sklearn/ensemble/forest.py:245: FutureWarning: The default value of n_estimators will change from 10 in version 0.20 to 100 in 0.22.\n",
      "  \"10 in version 0.20 to 100 in 0.22.\", FutureWarning)\n"
     ]
    },
    {
     "data": {
      "text/plain": [
       "RandomForestClassifier(bootstrap=True, class_weight=None, criterion='gini',\n",
       "                       max_depth=None, max_features='auto', max_leaf_nodes=None,\n",
       "                       min_impurity_decrease=0.0, min_impurity_split=None,\n",
       "                       min_samples_leaf=1, min_samples_split=2,\n",
       "                       min_weight_fraction_leaf=0.0, n_estimators=10,\n",
       "                       n_jobs=None, oob_score=False, random_state=42, verbose=0,\n",
       "                       warm_start=False)"
      ]
     },
     "execution_count": 5,
     "metadata": {},
     "output_type": "execute_result"
    }
   ],
   "source": [
    "rf.fit(X_train, y_train)"
   ]
  },
  {
   "cell_type": "markdown",
   "metadata": {},
   "source": [
    "## 학습된 모델로 Test set 예측"
   ]
  },
  {
   "cell_type": "code",
   "execution_count": 6,
   "metadata": {},
   "outputs": [],
   "source": [
    "pred = rf.predict(X_test) # Binary classification\n",
    "pred_proba = rf.predict_proba(X_test) # Probability classification"
   ]
  },
  {
   "cell_type": "code",
   "execution_count": 7,
   "metadata": {},
   "outputs": [
    {
     "name": "stdout",
     "output_type": "stream",
     "text": [
      "[1 1 0 1 0 1 1 1 0 0 1 1 0 0 1 1 1 1 1 1 1 0 1 1 1 1 0 0 1 1 1 1 1 0 1 1 1\n",
      " 1 0 0 1 0 1 0 1 0 0 1 1 0 1 1 0 0 1 1 0 1 0 1 1 1 0 1 0 1 1 1 0 0 1 1 1 1\n",
      " 1 1 1 1 0 1 0 0 1 0 0 0 0 1 1 1 1 0 0 0 1 1 0 0 1 1 1 1 1 1 0 0 1 0 1 0 0\n",
      " 1 0 1]\n"
     ]
    }
   ],
   "source": [
    "print(pred)"
   ]
  },
  {
   "cell_type": "code",
   "execution_count": 8,
   "metadata": {},
   "outputs": [
    {
     "name": "stdout",
     "output_type": "stream",
     "text": [
      "[[0.  1. ]\n",
      " [0.  1. ]\n",
      " [1.  0. ]\n",
      " [0.4 0.6]\n",
      " [1.  0. ]\n",
      " [0.3 0.7]\n",
      " [0.1 0.9]\n",
      " [0.  1. ]\n",
      " [0.9 0.1]\n",
      " [1.  0. ]]\n"
     ]
    }
   ],
   "source": [
    "print(pred_proba[:10])"
   ]
  },
  {
   "cell_type": "markdown",
   "metadata": {},
   "source": [
    "## Metric 구하기"
   ]
  },
  {
   "cell_type": "code",
   "execution_count": 9,
   "metadata": {},
   "outputs": [],
   "source": [
    "def metrics(pred, answ, thr=0.5):\n",
    "    \"\"\"\n",
    "    Function that prints overall metrics\n",
    "    - Input variables\n",
    "        - pred : Prediction value. int(0 or 1) or float(0 ~ 1).\n",
    "        - answ : True label. One of 0 and 1.\n",
    "        - thr  : threshold for classification\n",
    "    \n",
    "    - tp : True Positive\n",
    "    - fp : False Positive (Model output > threshold, True label < threshold)\n",
    "    - fn : False Negative (Model output < threshold, True label > threshold)\n",
    "    - tn : True Negative\n",
    "    \n",
    "    - Print values\n",
    "        - Accuracy             : (tp + tn) / Total\n",
    "        - Sensitivity (recall) : tp / (tp + fn) \n",
    "        - Specificity          : tn / (tn + fp)\n",
    "        - Precision            : tp / (tp + fp)\n",
    "        - F1 score             : 2 * (sensitivity * precision) / (sensitivity + precision)\n",
    "    \"\"\"\n",
    "    tp, fp, fn, tn = 0, 0, 0, 0\n",
    "    assert len(pred) == len(answ), \"Length of prediction should be same as length of answer. \" + \\\n",
    "                                    f\"Check length of prediction (current : {len(pred)}) and \" + \\\n",
    "                                    f\"answer (current : {len(answ)}).\"\n",
    "    for i in range(len(pred)):\n",
    "        p = pred[i]\n",
    "        assert 0 <= p <= 1, \"Prediction value should range from 0 to 1\"\n",
    "        if p>=0.5 and answ[i]>=0.5:\n",
    "            tp += 1\n",
    "        elif p<0.5 and answ[i]>=0.5:\n",
    "            fn += 1\n",
    "        elif p>=0.5 and answ[i]<0.5:\n",
    "            fp += 1\n",
    "        else:\n",
    "            tn += 1\n",
    "    assert len(pred) == tp+fn+fp+tn\n",
    "    acc = (tp + tn) / len(pred) # Accuracy\n",
    "    sen = tp / (tp + fn) # Sensitivity (= Recall)\n",
    "    spe = tn / (tn + fp) # Specificity\n",
    "    pre = tp / (tp + fp) # Precision (= Positivie Predictive Value; PPV)\n",
    "    f1 = 2/(1/sen + 1/pre)\n",
    "    print(\"Overall metrics\")\n",
    "    print(f\"Accuracy   : {acc:.3f}\")\n",
    "    print(f\"Recall     : {sen:.3f}\")\n",
    "    print(f\"Specifcity : {spe:.3f}\")\n",
    "    print(f\"Precision  : {pre:.3f}\")\n",
    "    print(f\"F1 Score   : {f1:.3f}\")"
   ]
  },
  {
   "cell_type": "code",
   "execution_count": 10,
   "metadata": {},
   "outputs": [
    {
     "name": "stdout",
     "output_type": "stream",
     "text": [
      "Overall metrics\n",
      "Accuracy   : 0.939\n",
      "Recall     : 0.971\n",
      "Specifcity : 0.891\n",
      "Precision  : 0.930\n",
      "F1 Score   : 0.950\n"
     ]
    }
   ],
   "source": [
    "metrics(pred, y_test)"
   ]
  },
  {
   "cell_type": "code",
   "execution_count": 11,
   "metadata": {},
   "outputs": [
    {
     "data": {
      "text/plain": [
       "0.9385964912280702"
      ]
     },
     "execution_count": 11,
     "metadata": {},
     "output_type": "execute_result"
    }
   ],
   "source": [
    "rf.score(X_test, y_test) # Overall Accuracy. This should be same as Accuracy above."
   ]
  },
  {
   "cell_type": "markdown",
   "metadata": {},
   "source": [
    "## Feature Importance를 통해 어떤 feature이 중요하게 작용하는지 시각화"
   ]
  },
  {
   "cell_type": "code",
   "execution_count": 12,
   "metadata": {},
   "outputs": [],
   "source": [
    "fi = rf.feature_importances_"
   ]
  },
  {
   "cell_type": "code",
   "execution_count": 13,
   "metadata": {},
   "outputs": [],
   "source": [
    "import matplotlib.pyplot as plt"
   ]
  },
  {
   "cell_type": "code",
   "execution_count": 14,
   "metadata": {},
   "outputs": [
    {
     "data": {
      "image/png": "[encoded data removed]",
      "text/plain": [
       "<Figure size 720x720 with 1 Axes>"
      ]
     },
     "metadata": {
      "needs_background": "light"
     },
     "output_type": "display_data"
    }
   ],
   "source": [
    "plt.figure(figsize=(10,10))\n",
    "plt.bar(features, fi)\n",
    "plt.xticks(rotation=90)\n",
    "plt.show()"
   ]
  },
  {
   "cell_type": "code",
   "execution_count": null,
   "metadata": {},
   "outputs": [],
   "source": []
  }
 ],
 "metadata": {
  "kernelspec": {
   "display_name": "Python 3",
   "language": "python",
   "name": "python3"
  },
  "language_info": {
   "codemirror_mode": {
    "name": "ipython",
    "version": 3
   },
   "file_extension": ".py",
   "mimetype": "text/x-python",
   "name": "python",
   "nbconvert_exporter": "python",
   "pygments_lexer": "ipython3",
   "version": "3.7.4"
  }
 },
 "nbformat": 4,
 "nbformat_minor": 4
}
